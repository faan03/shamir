{
 "cells": [
  {
   "cell_type": "code",
   "source": "import operadorZq as operadorzq \n\nop = operadorzq.operadorZq (13)\n\nprint (op.producto(2,7))\nprint (op.producto(op.division(7,3),3))\n",
   "metadata": {
    "cell_id": "45a92e74-967c-4a05-b4f0-ad1a6aca8b18",
    "tags": [],
    "deepnote_to_be_reexecuted": false,
    "source_hash": "ff79eec6",
    "execution_start": 1644676974053,
    "execution_millis": 2,
    "deepnote_output_heights": [
     309.1875,
     328
    ],
    "deepnote_cell_type": "code"
   },
   "outputs": [
    {
     "name": "stdout",
     "text": "1\n7\n",
     "output_type": "stream"
    }
   ],
   "execution_count": null
  },
  {
   "cell_type": "code",
   "source": "!pip install gensafeprime\nimport gensafeprime as gen\n\np = gensafeprime.generate(100)\n",
   "metadata": {
    "cell_id": "c6d6ac2a-8fc9-4e17-acce-f3fde0ff87fb",
    "tags": [],
    "deepnote_to_be_reexecuted": false,
    "source_hash": "b6673769",
    "execution_start": 1644681308079,
    "execution_millis": 7130,
    "deepnote_cell_type": "code"
   },
   "outputs": [
    {
     "name": "stdout",
     "text": "Collecting gensafeprime\n  Using cached gensafeprime-1.6.tar.gz (3.7 kB)\nBuilding wheels for collected packages: gensafeprime\n  Building wheel for gensafeprime (setup.py) ... \u001b[?25lerror\n\u001b[31m  ERROR: Command errored out with exit status 1:\n   command: /root/venv/bin/python -u -c 'import sys, setuptools, tokenize; sys.argv[0] = '\"'\"'/tmp/pip-install-lcx9q6nb/gensafeprime/setup.py'\"'\"'; __file__='\"'\"'/tmp/pip-install-lcx9q6nb/gensafeprime/setup.py'\"'\"';f=getattr(tokenize, '\"'\"'open'\"'\"', open)(__file__);code=f.read().replace('\"'\"'\\r\\n'\"'\"', '\"'\"'\\n'\"'\"');f.close();exec(compile(code, __file__, '\"'\"'exec'\"'\"'))' bdist_wheel -d /tmp/pip-wheel-573_edzh\n       cwd: /tmp/pip-install-lcx9q6nb/gensafeprime/\n  Complete output (13 lines):\n  running bdist_wheel\n  running build\n  running build_ext\n  building 'gensafeprime' extension\n  creating build\n  creating build/temp.linux-x86_64-3.7\n  creating build/temp.linux-x86_64-3.7/src\n  gcc -pthread -Wno-unused-result -Wsign-compare -DNDEBUG -g -fwrapv -O3 -Wall -fPIC -I/root/venv/include -I/usr/local/include/python3.7m -c src/primemodule.c -o build/temp.linux-x86_64-3.7/src/primemodule.o\n  src/primemodule.c:2:10: fatal error: openssl/conf.h: No such file or directory\n   #include <openssl/conf.h>\n            ^~~~~~~~~~~~~~~~\n  compilation terminated.\n  error: command 'gcc' failed with exit status 1\n  ----------------------------------------\u001b[0m\n\u001b[31m  ERROR: Failed building wheel for gensafeprime\u001b[0m\n\u001b[?25h  Running setup.py clean for gensafeprime\nFailed to build gensafeprime\nInstalling collected packages: gensafeprime\n    Running setup.py install for gensafeprime ... \u001b[?25lerror\n\u001b[31m    ERROR: Command errored out with exit status 1:\n     command: /root/venv/bin/python -u -c 'import sys, setuptools, tokenize; sys.argv[0] = '\"'\"'/tmp/pip-install-lcx9q6nb/gensafeprime/setup.py'\"'\"'; __file__='\"'\"'/tmp/pip-install-lcx9q6nb/gensafeprime/setup.py'\"'\"';f=getattr(tokenize, '\"'\"'open'\"'\"', open)(__file__);code=f.read().replace('\"'\"'\\r\\n'\"'\"', '\"'\"'\\n'\"'\"');f.close();exec(compile(code, __file__, '\"'\"'exec'\"'\"'))' install --record /tmp/pip-record-_16a4ag5/install-record.txt --single-version-externally-managed --compile --install-headers /root/venv/include/site/python3.7/gensafeprime\n         cwd: /tmp/pip-install-lcx9q6nb/gensafeprime/\n    Complete output (13 lines):\n    running install\n    running build\n    running build_ext\n    building 'gensafeprime' extension\n    creating build\n    creating build/temp.linux-x86_64-3.7\n    creating build/temp.linux-x86_64-3.7/src\n    gcc -pthread -Wno-unused-result -Wsign-compare -DNDEBUG -g -fwrapv -O3 -Wall -fPIC -I/root/venv/include -I/usr/local/include/python3.7m -c src/primemodule.c -o build/temp.linux-x86_64-3.7/src/primemodule.o\n    src/primemodule.c:2:10: fatal error: openssl/conf.h: No such file or directory\n     #include <openssl/conf.h>\n              ^~~~~~~~~~~~~~~~\n    compilation terminated.\n    error: command 'gcc' failed with exit status 1\n    ----------------------------------------\u001b[0m\n\u001b[31mERROR: Command errored out with exit status 1: /root/venv/bin/python -u -c 'import sys, setuptools, tokenize; sys.argv[0] = '\"'\"'/tmp/pip-install-lcx9q6nb/gensafeprime/setup.py'\"'\"'; __file__='\"'\"'/tmp/pip-install-lcx9q6nb/gensafeprime/setup.py'\"'\"';f=getattr(tokenize, '\"'\"'open'\"'\"', open)(__file__);code=f.read().replace('\"'\"'\\r\\n'\"'\"', '\"'\"'\\n'\"'\"');f.close();exec(compile(code, __file__, '\"'\"'exec'\"'\"'))' install --record /tmp/pip-record-_16a4ag5/install-record.txt --single-version-externally-managed --compile --install-headers /root/venv/include/site/python3.7/gensafeprime Check the logs for full command output.\u001b[0m\n\u001b[33mWARNING: You are using pip version 20.1.1; however, version 22.0.3 is available.\nYou should consider upgrading via the '/root/venv/bin/python -m pip install --upgrade pip' command.\u001b[0m\n\u001b[?25h",
     "output_type": "stream"
    },
    {
     "output_type": "error",
     "ename": "ModuleNotFoundError",
     "evalue": "No module named 'gensafeprime'",
     "traceback": [
      "\u001b[0;31m---------------------------------------------------------------------------\u001b[0m",
      "\u001b[0;31mModuleNotFoundError\u001b[0m                       Traceback (most recent call last)",
      "\u001b[0;32m<ipython-input-3-bf90523f4ac3>\u001b[0m in \u001b[0;36m<module>\u001b[0;34m\u001b[0m\n\u001b[1;32m      1\u001b[0m \u001b[0mget_ipython\u001b[0m\u001b[0;34m(\u001b[0m\u001b[0;34m)\u001b[0m\u001b[0;34m.\u001b[0m\u001b[0msystem\u001b[0m\u001b[0;34m(\u001b[0m\u001b[0;34m'pip install gensafeprime'\u001b[0m\u001b[0;34m)\u001b[0m\u001b[0;34m\u001b[0m\u001b[0;34m\u001b[0m\u001b[0m\n\u001b[0;32m----> 2\u001b[0;31m \u001b[0;32mimport\u001b[0m \u001b[0mgensafeprime\u001b[0m \u001b[0;32mas\u001b[0m \u001b[0mgen\u001b[0m\u001b[0;34m\u001b[0m\u001b[0;34m\u001b[0m\u001b[0m\n\u001b[0m\u001b[1;32m      3\u001b[0m \u001b[0;34m\u001b[0m\u001b[0m\n\u001b[1;32m      4\u001b[0m \u001b[0mp\u001b[0m \u001b[0;34m=\u001b[0m \u001b[0mgensafeprime\u001b[0m\u001b[0;34m.\u001b[0m\u001b[0mgenerate\u001b[0m\u001b[0;34m(\u001b[0m\u001b[0;36m100\u001b[0m\u001b[0;34m)\u001b[0m\u001b[0;34m\u001b[0m\u001b[0;34m\u001b[0m\u001b[0m\n",
      "\u001b[0;31mModuleNotFoundError\u001b[0m: No module named 'gensafeprime'"
     ]
    }
   ],
   "execution_count": null
  },
  {
   "cell_type": "markdown",
   "source": "<a style='text-decoration:none;line-height:16px;display:flex;color:#5B5B62;padding:10px;justify-content:end;' href='https://deepnote.com?utm_source=created-in-deepnote-cell&projectId=a1e29f6d-179b-4f83-b57b-7ddc7e7096dd' target=\"_blank\">\n<img alt='Created in deepnote.com' style='display:inline;max-height:16px;margin:0px;margin-right:7.5px;' src='data:image/svg+xml;base64,PD94bWwgdmVyc2lvbj0iMS4wIiBlbmNvZGluZz0iVVRGLTgiPz4KPHN2ZyB3aWR0aD0iODBweCIgaGVpZ2h0PSI4MHB4IiB2aWV3Qm94PSIwIDAgODAgODAiIHZlcnNpb249IjEuMSIgeG1sbnM9Imh0dHA6Ly93d3cudzMub3JnLzIwMDAvc3ZnIiB4bWxuczp4bGluaz0iaHR0cDovL3d3dy53My5vcmcvMTk5OS94bGluayI+CiAgICA8IS0tIEdlbmVyYXRvcjogU2tldGNoIDU0LjEgKDc2NDkwKSAtIGh0dHBzOi8vc2tldGNoYXBwLmNvbSAtLT4KICAgIDx0aXRsZT5Hcm91cCAzPC90aXRsZT4KICAgIDxkZXNjPkNyZWF0ZWQgd2l0aCBTa2V0Y2guPC9kZXNjPgogICAgPGcgaWQ9IkxhbmRpbmciIHN0cm9rZT0ibm9uZSIgc3Ryb2tlLXdpZHRoPSIxIiBmaWxsPSJub25lIiBmaWxsLXJ1bGU9ImV2ZW5vZGQiPgogICAgICAgIDxnIGlkPSJBcnRib2FyZCIgdHJhbnNmb3JtPSJ0cmFuc2xhdGUoLTEyMzUuMDAwMDAwLCAtNzkuMDAwMDAwKSI+CiAgICAgICAgICAgIDxnIGlkPSJHcm91cC0zIiB0cmFuc2Zvcm09InRyYW5zbGF0ZSgxMjM1LjAwMDAwMCwgNzkuMDAwMDAwKSI+CiAgICAgICAgICAgICAgICA8cG9seWdvbiBpZD0iUGF0aC0yMCIgZmlsbD0iIzAyNjVCNCIgcG9pbnRzPSIyLjM3NjIzNzYyIDgwIDM4LjA0NzY2NjcgODAgNTcuODIxNzgyMiA3My44MDU3NTkyIDU3LjgyMTc4MjIgMzIuNzU5MjczOSAzOS4xNDAyMjc4IDMxLjY4MzE2ODMiPjwvcG9seWdvbj4KICAgICAgICAgICAgICAgIDxwYXRoIGQ9Ik0zNS4wMDc3MTgsODAgQzQyLjkwNjIwMDcsNzYuNDU0OTM1OCA0Ny41NjQ5MTY3LDcxLjU0MjI2NzEgNDguOTgzODY2LDY1LjI2MTk5MzkgQzUxLjExMjI4OTksNTUuODQxNTg0MiA0MS42NzcxNzk1LDQ5LjIxMjIyODQgMjUuNjIzOTg0Niw0OS4yMTIyMjg0IEMyNS40ODQ5Mjg5LDQ5LjEyNjg0NDggMjkuODI2MTI5Niw0My4yODM4MjQ4IDM4LjY0NzU4NjksMzEuNjgzMTY4MyBMNzIuODcxMjg3MSwzMi41NTQ0MjUgTDY1LjI4MDk3Myw2Ny42NzYzNDIxIEw1MS4xMTIyODk5LDc3LjM3NjE0NCBMMzUuMDA3NzE4LDgwIFoiIGlkPSJQYXRoLTIyIiBmaWxsPSIjMDAyODY4Ij48L3BhdGg+CiAgICAgICAgICAgICAgICA8cGF0aCBkPSJNMCwzNy43MzA0NDA1IEwyNy4xMTQ1MzcsMC4yNTcxMTE0MzYgQzYyLjM3MTUxMjMsLTEuOTkwNzE3MDEgODAsMTAuNTAwMzkyNyA4MCwzNy43MzA0NDA1IEM4MCw2NC45NjA0ODgyIDY0Ljc3NjUwMzgsNzkuMDUwMzQxNCAzNC4zMjk1MTEzLDgwIEM0Ny4wNTUzNDg5LDc3LjU2NzA4MDggNTMuNDE4MjY3Nyw3MC4zMTM2MTAzIDUzLjQxODI2NzcsNTguMjM5NTg4NSBDNTMuNDE4MjY3Nyw0MC4xMjg1NTU3IDM2LjMwMzk1NDQsMzcuNzMwNDQwNSAyNS4yMjc0MTcsMzcuNzMwNDQwNSBDMTcuODQzMDU4NiwzNy43MzA0NDA1IDkuNDMzOTE5NjYsMzcuNzMwNDQwNSAwLDM3LjczMDQ0MDUgWiIgaWQ9IlBhdGgtMTkiIGZpbGw9IiMzNzkzRUYiPjwvcGF0aD4KICAgICAgICAgICAgPC9nPgogICAgICAgIDwvZz4KICAgIDwvZz4KPC9zdmc+' > </img>\nCreated in <span style='font-weight:600;margin-left:4px;'>Deepnote</span></a>",
   "metadata": {
    "tags": [],
    "created_in_deepnote_cell": true,
    "deepnote_cell_type": "markdown"
   }
  }
 ],
 "nbformat": 4,
 "nbformat_minor": 2,
 "metadata": {
  "orig_nbformat": 2,
  "deepnote": {
   "is_reactive": false
  },
  "deepnote_notebook_id": "faa52190-eff0-41e0-bc00-97dc66a06691",
  "deepnote_execution_queue": []
 }
}